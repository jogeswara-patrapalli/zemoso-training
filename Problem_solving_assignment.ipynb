{
 "cells": [
  {
   "cell_type": "code",
   "execution_count": 3,
   "id": "311d5b6f",
   "metadata": {},
   "outputs": [
    {
     "name": "stdout",
     "output_type": "stream",
     "text": [
      "Training Track:\n",
      "HTML\n",
      "CSS\n",
      "Javascript\n",
      "REACTJS\n",
      "NODEJS\n",
      "MONGODB\n"
     ]
    }
   ],
   "source": [
    "# Define a class for a course\n",
    "class Course:\n",
    "    def __init__(self, name):\n",
    "        self.name = name\n",
    "        self.prerequisites = set()\n",
    "\n",
    "\n",
    "def create_courses_graph():\n",
    "    courses = {\n",
    "        \"HTML\": Course(\"HTML\"),\n",
    "        \"REACTJS\":Course(\"REACTJS\"),\n",
    "        \"CSS\": Course(\"CSS\"),\n",
    "        \"Javascript\": Course(\"Javascript\"),\n",
    "        \"NODEJS\": Course(\"NODEJS\"),\n",
    "        \"MONGODB\": Course(\"MONGODB\"),\n",
    "        }\n",
    "    courses[\"REACTJS\"].prerequisites.add(\"CSS\")\n",
    "    courses[\"REACTJS\"].prerequisites.add(\"Javascript\")\n",
    "    courses[\"Javascript\"].prerequisites.add(\"HTML\")\n",
    "    courses[\"NODEJS\"].prerequisites.add(\"REACTJS\")\n",
    "    courses[\"CSS\"].prerequisites.add(\"HTML\")\n",
    "    courses[\"MONGODB\"].prerequisites.add(\"REACTJS\")\n",
    "    return courses\n",
    "\n",
    "\n",
    "def topological_sort_courses(courses):\n",
    "    sorted_courses = []\n",
    "    in_degree = {course.name: 0 for course in courses.values()}\n",
    "    \n",
    "    for prereq in courses.values():\n",
    "        for  j in prereq.prerequisites:\n",
    "            in_degree[prereq.name] += 1\n",
    "    #print(in_degree)\n",
    "    queue = [course for course in courses.values() if in_degree[course.name] == 0]\n",
    "    \n",
    "    while queue:\n",
    "        course = queue.pop(0)\n",
    "        sorted_courses.append(course.name)\n",
    "        \n",
    "        for cour in courses.values():\n",
    "            if course.name in cour.prerequisites:\n",
    "                in_degree[cour.name]-=1\n",
    "                \n",
    "                if in_degree[cour.name] == 0:\n",
    "                    queue.append(cour)\n",
    "    return sorted_courses\n",
    "\n",
    "\n",
    "\n",
    "\n",
    "courses = create_courses_graph()\n",
    "\n",
    "s_courses = topological_sort_courses(courses)\n",
    "\n",
    "print(\"Training Track:\")\n",
    "for course in s_courses:\n",
    "    print(course)\n",
    "\n"
   ]
  },
  {
   "cell_type": "code",
   "execution_count": null,
   "id": "2448635c",
   "metadata": {},
   "outputs": [],
   "source": []
  }
 ],
 "metadata": {
  "kernelspec": {
   "display_name": "Python 3",
   "language": "python",
   "name": "python3"
  },
  "language_info": {
   "codemirror_mode": {
    "name": "ipython",
    "version": 3
   },
   "file_extension": ".py",
   "mimetype": "text/x-python",
   "name": "python",
   "nbconvert_exporter": "python",
   "pygments_lexer": "ipython3",
   "version": "3.11.1"
  },
  "vscode": {
   "interpreter": {
    "hash": "b9c24cc5fb1c949a64c8dc31e4f8ecba050a1ad3239390e9c634353f97708b99"
   }
  }
 },
 "nbformat": 4,
 "nbformat_minor": 5
}
